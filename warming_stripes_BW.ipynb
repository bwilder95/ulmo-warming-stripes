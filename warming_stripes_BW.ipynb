{
  "nbformat": 4,
  "nbformat_minor": 0,
  "metadata": {
    "kernelspec": {
      "display_name": "whwwaterdata",
      "language": "python",
      "name": "whwwaterdata"
    },
    "language_info": {
      "codemirror_mode": {
        "name": "ipython",
        "version": 3
      },
      "file_extension": ".py",
      "mimetype": "text/x-python",
      "name": "python",
      "nbconvert_exporter": "python",
      "pygments_lexer": "ipython3",
      "version": "3.6.10"
    },
    "colab": {
      "name": "warming-stripes_BW.ipynb",
      "provenance": [],
      "collapsed_sections": [],
      "include_colab_link": true
    }
  },
  "cells": [
    {
      "cell_type": "markdown",
      "metadata": {
        "id": "view-in-github",
        "colab_type": "text"
      },
      "source": [
        "<a href=\"https://colab.research.google.com/github/bwilder95/ulmo-warming-stripes/blob/main/warming_stripes_BW.ipynb\" target=\"_parent\"><img src=\"https://colab.research.google.com/assets/colab-badge.svg\" alt=\"Open In Colab\"/></a>"
      ]
    },
    {
      "cell_type": "markdown",
      "metadata": {
        "id": "_IKnMgoJ6k-n"
      },
      "source": [
        "# Warming Stripes\n",
        "\n",
        "Let's create our own figure of \"[warming stripes](https://en.wikipedia.org/wiki/Warming_stripes)\" that use a red/blue color scale to represent annual air temperature deviations from some climate mean tempearture over a long timeseries. This notebook is based on, and adapts code from [\"Creating the Warming Stripes in Matplotlib\" by Maximilian Nöthe](https://matplotlib.org/matplotblog/posts/warming-stripes/)."
      ]
    },
    {
      "cell_type": "code",
      "metadata": {
        "id": "O44sSk1X6k-r",
        "colab": {
          "base_uri": "https://localhost:8080/"
        },
        "outputId": "1de8daa4-b0a6-4cec-e9a0-70d4bd6c5863"
      },
      "source": [
        "!pip install meteostat"
      ],
      "execution_count": 1,
      "outputs": [
        {
          "output_type": "stream",
          "text": [
            "Requirement already satisfied: meteostat in /usr/local/lib/python3.7/dist-packages (1.4.6)\n",
            "Requirement already satisfied: pytz in /usr/local/lib/python3.7/dist-packages (from meteostat) (2018.9)\n",
            "Requirement already satisfied: pandas>=1.1 in /usr/local/lib/python3.7/dist-packages (from meteostat) (1.1.5)\n",
            "Requirement already satisfied: numpy in /usr/local/lib/python3.7/dist-packages (from meteostat) (1.19.5)\n",
            "Requirement already satisfied: python-dateutil>=2.7.3 in /usr/local/lib/python3.7/dist-packages (from pandas>=1.1->meteostat) (2.8.1)\n",
            "Requirement already satisfied: six>=1.5 in /usr/local/lib/python3.7/dist-packages (from python-dateutil>=2.7.3->pandas>=1.1->meteostat) (1.15.0)\n"
          ],
          "name": "stdout"
        }
      ]
    },
    {
      "cell_type": "markdown",
      "metadata": {
        "id": "QPzkMEEM6k-r"
      },
      "source": [
        "---"
      ]
    },
    {
      "cell_type": "code",
      "metadata": {
        "id": "yCZBWxul6k-s"
      },
      "source": [
        "# packages for working with our data\n",
        "import pandas as pd\n",
        "import numpy as np\n",
        "\n",
        "# page we'll use to access the data\n",
        "from datetime import datetime\n",
        "from meteostat import Point, Daily\n",
        "\n",
        "# packages for plotting\n",
        "import matplotlib.pyplot as plt\n",
        "from matplotlib.patches import Rectangle\n",
        "from matplotlib.collections import PatchCollection\n",
        "from matplotlib.colors import ListedColormap"
      ],
      "execution_count": 2,
      "outputs": []
    },
    {
      "cell_type": "code",
      "metadata": {
        "id": "3jOyjX-06k-u"
      },
      "source": [
        "# Set time period\n",
        "start = datetime(1900, 1, 1)\n",
        "end = datetime(2021, 12, 31)\n",
        "# Create Point for San Diego, CA\n",
        "location = Point(32.715736, -117.161087, 70)\n",
        "# Get daily data for 2018\n",
        "data = Daily(location, start, end)\n",
        "df = data.fetch()"
      ],
      "execution_count": 3,
      "outputs": []
    },
    {
      "cell_type": "markdown",
      "metadata": {
        "id": "Bi9Rc1YQ6k-x"
      },
      "source": [
        "Take a look at what the dataframe looks like"
      ]
    },
    {
      "cell_type": "code",
      "metadata": {
        "id": "QLSfMn2P6k-y",
        "colab": {
          "base_uri": "https://localhost:8080/",
          "height": 238
        },
        "outputId": "cbe4f76c-b26a-44e9-b9e7-3dfe0bacb4af"
      },
      "source": [
        "df.head()"
      ],
      "execution_count": 4,
      "outputs": [
        {
          "output_type": "execute_result",
          "data": {
            "text/html": [
              "<div>\n",
              "<style scoped>\n",
              "    .dataframe tbody tr th:only-of-type {\n",
              "        vertical-align: middle;\n",
              "    }\n",
              "\n",
              "    .dataframe tbody tr th {\n",
              "        vertical-align: top;\n",
              "    }\n",
              "\n",
              "    .dataframe thead th {\n",
              "        text-align: right;\n",
              "    }\n",
              "</style>\n",
              "<table border=\"1\" class=\"dataframe\">\n",
              "  <thead>\n",
              "    <tr style=\"text-align: right;\">\n",
              "      <th></th>\n",
              "      <th>tavg</th>\n",
              "      <th>tmin</th>\n",
              "      <th>tmax</th>\n",
              "      <th>prcp</th>\n",
              "      <th>snow</th>\n",
              "      <th>wdir</th>\n",
              "      <th>wspd</th>\n",
              "      <th>wpgt</th>\n",
              "      <th>pres</th>\n",
              "      <th>tsun</th>\n",
              "    </tr>\n",
              "    <tr>\n",
              "      <th>time</th>\n",
              "      <th></th>\n",
              "      <th></th>\n",
              "      <th></th>\n",
              "      <th></th>\n",
              "      <th></th>\n",
              "      <th></th>\n",
              "      <th></th>\n",
              "      <th></th>\n",
              "      <th></th>\n",
              "      <th></th>\n",
              "    </tr>\n",
              "  </thead>\n",
              "  <tbody>\n",
              "    <tr>\n",
              "      <th>1939-07-01</th>\n",
              "      <td>NaN</td>\n",
              "      <td>16.8</td>\n",
              "      <td>24.0</td>\n",
              "      <td>0.0</td>\n",
              "      <td>0.0</td>\n",
              "      <td>NaN</td>\n",
              "      <td>NaN</td>\n",
              "      <td>NaN</td>\n",
              "      <td>NaN</td>\n",
              "      <td>NaN</td>\n",
              "    </tr>\n",
              "    <tr>\n",
              "      <th>1939-07-02</th>\n",
              "      <td>NaN</td>\n",
              "      <td>17.9</td>\n",
              "      <td>22.9</td>\n",
              "      <td>0.0</td>\n",
              "      <td>0.0</td>\n",
              "      <td>NaN</td>\n",
              "      <td>NaN</td>\n",
              "      <td>NaN</td>\n",
              "      <td>NaN</td>\n",
              "      <td>NaN</td>\n",
              "    </tr>\n",
              "    <tr>\n",
              "      <th>1939-07-03</th>\n",
              "      <td>NaN</td>\n",
              "      <td>16.3</td>\n",
              "      <td>21.3</td>\n",
              "      <td>0.0</td>\n",
              "      <td>0.0</td>\n",
              "      <td>NaN</td>\n",
              "      <td>NaN</td>\n",
              "      <td>NaN</td>\n",
              "      <td>NaN</td>\n",
              "      <td>NaN</td>\n",
              "    </tr>\n",
              "    <tr>\n",
              "      <th>1939-07-04</th>\n",
              "      <td>NaN</td>\n",
              "      <td>16.8</td>\n",
              "      <td>21.3</td>\n",
              "      <td>0.0</td>\n",
              "      <td>0.0</td>\n",
              "      <td>NaN</td>\n",
              "      <td>NaN</td>\n",
              "      <td>NaN</td>\n",
              "      <td>NaN</td>\n",
              "      <td>NaN</td>\n",
              "    </tr>\n",
              "    <tr>\n",
              "      <th>1939-07-05</th>\n",
              "      <td>NaN</td>\n",
              "      <td>17.4</td>\n",
              "      <td>21.8</td>\n",
              "      <td>0.0</td>\n",
              "      <td>0.0</td>\n",
              "      <td>NaN</td>\n",
              "      <td>NaN</td>\n",
              "      <td>NaN</td>\n",
              "      <td>NaN</td>\n",
              "      <td>NaN</td>\n",
              "    </tr>\n",
              "  </tbody>\n",
              "</table>\n",
              "</div>"
            ],
            "text/plain": [
              "            tavg  tmin  tmax  prcp  snow  wdir  wspd  wpgt  pres  tsun\n",
              "time                                                                  \n",
              "1939-07-01   NaN  16.8  24.0   0.0   0.0   NaN   NaN   NaN   NaN   NaN\n",
              "1939-07-02   NaN  17.9  22.9   0.0   0.0   NaN   NaN   NaN   NaN   NaN\n",
              "1939-07-03   NaN  16.3  21.3   0.0   0.0   NaN   NaN   NaN   NaN   NaN\n",
              "1939-07-04   NaN  16.8  21.3   0.0   0.0   NaN   NaN   NaN   NaN   NaN\n",
              "1939-07-05   NaN  17.4  21.8   0.0   0.0   NaN   NaN   NaN   NaN   NaN"
            ]
          },
          "metadata": {
            "tags": []
          },
          "execution_count": 4
        }
      ]
    },
    {
      "cell_type": "markdown",
      "metadata": {
        "id": "aewe-Z2K6k-y"
      },
      "source": [
        "Create a daily mean temperature from tmin and tmax"
      ]
    },
    {
      "cell_type": "code",
      "metadata": {
        "id": "cT2d4-Qg6k-y",
        "colab": {
          "base_uri": "https://localhost:8080/",
          "height": 238
        },
        "outputId": "9d906974-2cf0-4b75-e1e9-b4f9b56f8a63"
      },
      "source": [
        "df['tmean'] = np.mean([df.tmax, df.tmin], axis=0)\n",
        "df.head()"
      ],
      "execution_count": 5,
      "outputs": [
        {
          "output_type": "execute_result",
          "data": {
            "text/html": [
              "<div>\n",
              "<style scoped>\n",
              "    .dataframe tbody tr th:only-of-type {\n",
              "        vertical-align: middle;\n",
              "    }\n",
              "\n",
              "    .dataframe tbody tr th {\n",
              "        vertical-align: top;\n",
              "    }\n",
              "\n",
              "    .dataframe thead th {\n",
              "        text-align: right;\n",
              "    }\n",
              "</style>\n",
              "<table border=\"1\" class=\"dataframe\">\n",
              "  <thead>\n",
              "    <tr style=\"text-align: right;\">\n",
              "      <th></th>\n",
              "      <th>tavg</th>\n",
              "      <th>tmin</th>\n",
              "      <th>tmax</th>\n",
              "      <th>prcp</th>\n",
              "      <th>snow</th>\n",
              "      <th>wdir</th>\n",
              "      <th>wspd</th>\n",
              "      <th>wpgt</th>\n",
              "      <th>pres</th>\n",
              "      <th>tsun</th>\n",
              "      <th>tmean</th>\n",
              "    </tr>\n",
              "    <tr>\n",
              "      <th>time</th>\n",
              "      <th></th>\n",
              "      <th></th>\n",
              "      <th></th>\n",
              "      <th></th>\n",
              "      <th></th>\n",
              "      <th></th>\n",
              "      <th></th>\n",
              "      <th></th>\n",
              "      <th></th>\n",
              "      <th></th>\n",
              "      <th></th>\n",
              "    </tr>\n",
              "  </thead>\n",
              "  <tbody>\n",
              "    <tr>\n",
              "      <th>1939-07-01</th>\n",
              "      <td>NaN</td>\n",
              "      <td>16.8</td>\n",
              "      <td>24.0</td>\n",
              "      <td>0.0</td>\n",
              "      <td>0.0</td>\n",
              "      <td>NaN</td>\n",
              "      <td>NaN</td>\n",
              "      <td>NaN</td>\n",
              "      <td>NaN</td>\n",
              "      <td>NaN</td>\n",
              "      <td>20.40</td>\n",
              "    </tr>\n",
              "    <tr>\n",
              "      <th>1939-07-02</th>\n",
              "      <td>NaN</td>\n",
              "      <td>17.9</td>\n",
              "      <td>22.9</td>\n",
              "      <td>0.0</td>\n",
              "      <td>0.0</td>\n",
              "      <td>NaN</td>\n",
              "      <td>NaN</td>\n",
              "      <td>NaN</td>\n",
              "      <td>NaN</td>\n",
              "      <td>NaN</td>\n",
              "      <td>20.40</td>\n",
              "    </tr>\n",
              "    <tr>\n",
              "      <th>1939-07-03</th>\n",
              "      <td>NaN</td>\n",
              "      <td>16.3</td>\n",
              "      <td>21.3</td>\n",
              "      <td>0.0</td>\n",
              "      <td>0.0</td>\n",
              "      <td>NaN</td>\n",
              "      <td>NaN</td>\n",
              "      <td>NaN</td>\n",
              "      <td>NaN</td>\n",
              "      <td>NaN</td>\n",
              "      <td>18.80</td>\n",
              "    </tr>\n",
              "    <tr>\n",
              "      <th>1939-07-04</th>\n",
              "      <td>NaN</td>\n",
              "      <td>16.8</td>\n",
              "      <td>21.3</td>\n",
              "      <td>0.0</td>\n",
              "      <td>0.0</td>\n",
              "      <td>NaN</td>\n",
              "      <td>NaN</td>\n",
              "      <td>NaN</td>\n",
              "      <td>NaN</td>\n",
              "      <td>NaN</td>\n",
              "      <td>19.05</td>\n",
              "    </tr>\n",
              "    <tr>\n",
              "      <th>1939-07-05</th>\n",
              "      <td>NaN</td>\n",
              "      <td>17.4</td>\n",
              "      <td>21.8</td>\n",
              "      <td>0.0</td>\n",
              "      <td>0.0</td>\n",
              "      <td>NaN</td>\n",
              "      <td>NaN</td>\n",
              "      <td>NaN</td>\n",
              "      <td>NaN</td>\n",
              "      <td>NaN</td>\n",
              "      <td>19.60</td>\n",
              "    </tr>\n",
              "  </tbody>\n",
              "</table>\n",
              "</div>"
            ],
            "text/plain": [
              "            tavg  tmin  tmax  prcp  snow  wdir  wspd  wpgt  pres  tsun  tmean\n",
              "time                                                                         \n",
              "1939-07-01   NaN  16.8  24.0   0.0   0.0   NaN   NaN   NaN   NaN   NaN  20.40\n",
              "1939-07-02   NaN  17.9  22.9   0.0   0.0   NaN   NaN   NaN   NaN   NaN  20.40\n",
              "1939-07-03   NaN  16.3  21.3   0.0   0.0   NaN   NaN   NaN   NaN   NaN  18.80\n",
              "1939-07-04   NaN  16.8  21.3   0.0   0.0   NaN   NaN   NaN   NaN   NaN  19.05\n",
              "1939-07-05   NaN  17.4  21.8   0.0   0.0   NaN   NaN   NaN   NaN   NaN  19.60"
            ]
          },
          "metadata": {
            "tags": []
          },
          "execution_count": 5
        }
      ]
    },
    {
      "cell_type": "markdown",
      "metadata": {
        "id": "PQ-RjubN6k-z"
      },
      "source": [
        "Resample the dataframe to annual mean values"
      ]
    },
    {
      "cell_type": "code",
      "metadata": {
        "id": "PYreL6IL6k-z",
        "colab": {
          "base_uri": "https://localhost:8080/",
          "height": 238
        },
        "outputId": "13fa0941-cb01-4d26-9f31-aae8f4932854"
      },
      "source": [
        "df_annual = df.resample('Y').mean()\n",
        "df_annual.head()"
      ],
      "execution_count": 6,
      "outputs": [
        {
          "output_type": "execute_result",
          "data": {
            "text/html": [
              "<div>\n",
              "<style scoped>\n",
              "    .dataframe tbody tr th:only-of-type {\n",
              "        vertical-align: middle;\n",
              "    }\n",
              "\n",
              "    .dataframe tbody tr th {\n",
              "        vertical-align: top;\n",
              "    }\n",
              "\n",
              "    .dataframe thead th {\n",
              "        text-align: right;\n",
              "    }\n",
              "</style>\n",
              "<table border=\"1\" class=\"dataframe\">\n",
              "  <thead>\n",
              "    <tr style=\"text-align: right;\">\n",
              "      <th></th>\n",
              "      <th>tavg</th>\n",
              "      <th>tmin</th>\n",
              "      <th>tmax</th>\n",
              "      <th>prcp</th>\n",
              "      <th>snow</th>\n",
              "      <th>wdir</th>\n",
              "      <th>wspd</th>\n",
              "      <th>wpgt</th>\n",
              "      <th>pres</th>\n",
              "      <th>tsun</th>\n",
              "      <th>tmean</th>\n",
              "    </tr>\n",
              "    <tr>\n",
              "      <th>time</th>\n",
              "      <th></th>\n",
              "      <th></th>\n",
              "      <th></th>\n",
              "      <th></th>\n",
              "      <th></th>\n",
              "      <th></th>\n",
              "      <th></th>\n",
              "      <th></th>\n",
              "      <th></th>\n",
              "      <th></th>\n",
              "      <th></th>\n",
              "    </tr>\n",
              "  </thead>\n",
              "  <tbody>\n",
              "    <tr>\n",
              "      <th>1939-12-31</th>\n",
              "      <td>NaN</td>\n",
              "      <td>14.590761</td>\n",
              "      <td>23.809783</td>\n",
              "      <td>0.750543</td>\n",
              "      <td>0.0</td>\n",
              "      <td>NaN</td>\n",
              "      <td>NaN</td>\n",
              "      <td>NaN</td>\n",
              "      <td>NaN</td>\n",
              "      <td>NaN</td>\n",
              "      <td>19.200272</td>\n",
              "    </tr>\n",
              "    <tr>\n",
              "      <th>1940-12-31</th>\n",
              "      <td>NaN</td>\n",
              "      <td>12.961202</td>\n",
              "      <td>21.402459</td>\n",
              "      <td>1.052459</td>\n",
              "      <td>0.0</td>\n",
              "      <td>NaN</td>\n",
              "      <td>NaN</td>\n",
              "      <td>NaN</td>\n",
              "      <td>NaN</td>\n",
              "      <td>NaN</td>\n",
              "      <td>17.181831</td>\n",
              "    </tr>\n",
              "    <tr>\n",
              "      <th>1941-12-31</th>\n",
              "      <td>NaN</td>\n",
              "      <td>12.937534</td>\n",
              "      <td>21.911233</td>\n",
              "      <td>1.736712</td>\n",
              "      <td>0.0</td>\n",
              "      <td>NaN</td>\n",
              "      <td>NaN</td>\n",
              "      <td>NaN</td>\n",
              "      <td>NaN</td>\n",
              "      <td>NaN</td>\n",
              "      <td>17.424384</td>\n",
              "    </tr>\n",
              "    <tr>\n",
              "      <th>1942-12-31</th>\n",
              "      <td>15.619388</td>\n",
              "      <td>12.044110</td>\n",
              "      <td>21.228219</td>\n",
              "      <td>0.414247</td>\n",
              "      <td>0.0</td>\n",
              "      <td>249.075735</td>\n",
              "      <td>10.673437</td>\n",
              "      <td>NaN</td>\n",
              "      <td>1015.442268</td>\n",
              "      <td>NaN</td>\n",
              "      <td>16.636164</td>\n",
              "    </tr>\n",
              "    <tr>\n",
              "      <th>1943-12-31</th>\n",
              "      <td>NaN</td>\n",
              "      <td>12.469315</td>\n",
              "      <td>21.755068</td>\n",
              "      <td>1.235068</td>\n",
              "      <td>0.0</td>\n",
              "      <td>NaN</td>\n",
              "      <td>NaN</td>\n",
              "      <td>NaN</td>\n",
              "      <td>NaN</td>\n",
              "      <td>NaN</td>\n",
              "      <td>17.112192</td>\n",
              "    </tr>\n",
              "  </tbody>\n",
              "</table>\n",
              "</div>"
            ],
            "text/plain": [
              "                 tavg       tmin       tmax  ...         pres  tsun      tmean\n",
              "time                                         ...                              \n",
              "1939-12-31        NaN  14.590761  23.809783  ...          NaN   NaN  19.200272\n",
              "1940-12-31        NaN  12.961202  21.402459  ...          NaN   NaN  17.181831\n",
              "1941-12-31        NaN  12.937534  21.911233  ...          NaN   NaN  17.424384\n",
              "1942-12-31  15.619388  12.044110  21.228219  ...  1015.442268   NaN  16.636164\n",
              "1943-12-31        NaN  12.469315  21.755068  ...          NaN   NaN  17.112192\n",
              "\n",
              "[5 rows x 11 columns]"
            ]
          },
          "metadata": {
            "tags": []
          },
          "execution_count": 6
        }
      ]
    },
    {
      "cell_type": "markdown",
      "metadata": {
        "id": "zf3wFqS86k-0"
      },
      "source": [
        "Now find the overall mean for all the years we're looking at. We'll use this as our \"climate mean\" air temperature to compare against just for this example."
      ]
    },
    {
      "cell_type": "code",
      "metadata": {
        "id": "oeBPffPq6k-0",
        "colab": {
          "base_uri": "https://localhost:8080/"
        },
        "outputId": "33744626-221c-4181-e848-1beca6883cd9"
      },
      "source": [
        "climate_mean = df_annual.tmean.mean()\n",
        "print(climate_mean)"
      ],
      "execution_count": 7,
      "outputs": [
        {
          "output_type": "stream",
          "text": [
            "17.731093912496334\n"
          ],
          "name": "stdout"
        }
      ]
    },
    {
      "cell_type": "markdown",
      "metadata": {
        "id": "M7ypx2366k-0"
      },
      "source": [
        "Find the annual anomaly between the annual mean temperature and this climate mean."
      ]
    },
    {
      "cell_type": "code",
      "metadata": {
        "id": "nai1XkBf6k-0",
        "colab": {
          "base_uri": "https://localhost:8080/",
          "height": 206
        },
        "outputId": "dd26ef69-312a-4602-ac2a-08ff18ac8c38"
      },
      "source": [
        "df_annual['anomaly'] = df_annual.tmean - climate_mean\n",
        "df_annual = df_annual.reset_index()\n",
        "df_annual['year'] = pd.DatetimeIndex(df_annual['time']).year\n",
        "df_annual.head()"
      ],
      "execution_count": 9,
      "outputs": [
        {
          "output_type": "execute_result",
          "data": {
            "text/html": [
              "<div>\n",
              "<style scoped>\n",
              "    .dataframe tbody tr th:only-of-type {\n",
              "        vertical-align: middle;\n",
              "    }\n",
              "\n",
              "    .dataframe tbody tr th {\n",
              "        vertical-align: top;\n",
              "    }\n",
              "\n",
              "    .dataframe thead th {\n",
              "        text-align: right;\n",
              "    }\n",
              "</style>\n",
              "<table border=\"1\" class=\"dataframe\">\n",
              "  <thead>\n",
              "    <tr style=\"text-align: right;\">\n",
              "      <th></th>\n",
              "      <th>time</th>\n",
              "      <th>tavg</th>\n",
              "      <th>tmin</th>\n",
              "      <th>tmax</th>\n",
              "      <th>prcp</th>\n",
              "      <th>snow</th>\n",
              "      <th>wdir</th>\n",
              "      <th>wspd</th>\n",
              "      <th>wpgt</th>\n",
              "      <th>pres</th>\n",
              "      <th>tsun</th>\n",
              "      <th>tmean</th>\n",
              "      <th>anomaly</th>\n",
              "      <th>year</th>\n",
              "    </tr>\n",
              "  </thead>\n",
              "  <tbody>\n",
              "    <tr>\n",
              "      <th>0</th>\n",
              "      <td>1939-12-31</td>\n",
              "      <td>NaN</td>\n",
              "      <td>14.590761</td>\n",
              "      <td>23.809783</td>\n",
              "      <td>0.750543</td>\n",
              "      <td>0.0</td>\n",
              "      <td>NaN</td>\n",
              "      <td>NaN</td>\n",
              "      <td>NaN</td>\n",
              "      <td>NaN</td>\n",
              "      <td>NaN</td>\n",
              "      <td>19.200272</td>\n",
              "      <td>1.469178</td>\n",
              "      <td>1939</td>\n",
              "    </tr>\n",
              "    <tr>\n",
              "      <th>1</th>\n",
              "      <td>1940-12-31</td>\n",
              "      <td>NaN</td>\n",
              "      <td>12.961202</td>\n",
              "      <td>21.402459</td>\n",
              "      <td>1.052459</td>\n",
              "      <td>0.0</td>\n",
              "      <td>NaN</td>\n",
              "      <td>NaN</td>\n",
              "      <td>NaN</td>\n",
              "      <td>NaN</td>\n",
              "      <td>NaN</td>\n",
              "      <td>17.181831</td>\n",
              "      <td>-0.549263</td>\n",
              "      <td>1940</td>\n",
              "    </tr>\n",
              "    <tr>\n",
              "      <th>2</th>\n",
              "      <td>1941-12-31</td>\n",
              "      <td>NaN</td>\n",
              "      <td>12.937534</td>\n",
              "      <td>21.911233</td>\n",
              "      <td>1.736712</td>\n",
              "      <td>0.0</td>\n",
              "      <td>NaN</td>\n",
              "      <td>NaN</td>\n",
              "      <td>NaN</td>\n",
              "      <td>NaN</td>\n",
              "      <td>NaN</td>\n",
              "      <td>17.424384</td>\n",
              "      <td>-0.306710</td>\n",
              "      <td>1941</td>\n",
              "    </tr>\n",
              "    <tr>\n",
              "      <th>3</th>\n",
              "      <td>1942-12-31</td>\n",
              "      <td>15.619388</td>\n",
              "      <td>12.044110</td>\n",
              "      <td>21.228219</td>\n",
              "      <td>0.414247</td>\n",
              "      <td>0.0</td>\n",
              "      <td>249.075735</td>\n",
              "      <td>10.673437</td>\n",
              "      <td>NaN</td>\n",
              "      <td>1015.442268</td>\n",
              "      <td>NaN</td>\n",
              "      <td>16.636164</td>\n",
              "      <td>-1.094930</td>\n",
              "      <td>1942</td>\n",
              "    </tr>\n",
              "    <tr>\n",
              "      <th>4</th>\n",
              "      <td>1943-12-31</td>\n",
              "      <td>NaN</td>\n",
              "      <td>12.469315</td>\n",
              "      <td>21.755068</td>\n",
              "      <td>1.235068</td>\n",
              "      <td>0.0</td>\n",
              "      <td>NaN</td>\n",
              "      <td>NaN</td>\n",
              "      <td>NaN</td>\n",
              "      <td>NaN</td>\n",
              "      <td>NaN</td>\n",
              "      <td>17.112192</td>\n",
              "      <td>-0.618902</td>\n",
              "      <td>1943</td>\n",
              "    </tr>\n",
              "  </tbody>\n",
              "</table>\n",
              "</div>"
            ],
            "text/plain": [
              "        time       tavg       tmin       tmax  ...  tsun      tmean   anomaly  year\n",
              "0 1939-12-31        NaN  14.590761  23.809783  ...   NaN  19.200272  1.469178  1939\n",
              "1 1940-12-31        NaN  12.961202  21.402459  ...   NaN  17.181831 -0.549263  1940\n",
              "2 1941-12-31        NaN  12.937534  21.911233  ...   NaN  17.424384 -0.306710  1941\n",
              "3 1942-12-31  15.619388  12.044110  21.228219  ...   NaN  16.636164 -1.094930  1942\n",
              "4 1943-12-31        NaN  12.469315  21.755068  ...   NaN  17.112192 -0.618902  1943\n",
              "\n",
              "[5 rows x 14 columns]"
            ]
          },
          "metadata": {
            "tags": []
          },
          "execution_count": 9
        }
      ]
    },
    {
      "cell_type": "markdown",
      "metadata": {
        "id": "k9bh60hZ6k-1"
      },
      "source": [
        "Now that we have our data all in order, we can go ahead and make the plot. (The following plotting code is adapted from [\"Creating the Warming Stripes in Matplotlib\" by Maximilian Nöthe](https://matplotlib.org/matplotblog/posts/warming-stripes/))"
      ]
    },
    {
      "cell_type": "markdown",
      "metadata": {
        "id": "uv6Qt3FC6k-1"
      },
      "source": [
        "This is our custom colormap from [colorbrewer2](http://colorbrewer2.org), we could also use one of the [colormaps](https://matplotlib.org/3.1.0/tutorials/colors/colormaps.html) that come with `matplotlib`, e.g. `coolwarm` or `RdBu`."
      ]
    },
    {
      "cell_type": "code",
      "metadata": {
        "id": "jKLO_kBV6k-1"
      },
      "source": [
        "cmap = ListedColormap([\n",
        "    '#08306b', '#08519c', '#2171b5', '#4292c6',\n",
        "    '#6baed6', '#9ecae1', '#c6dbef', '#deebf7',\n",
        "    '#fee0d2', '#fcbba1', '#fc9272', '#fb6a4a',\n",
        "    '#ef3b2c', '#cb181d', '#a50f15', '#67000d',\n",
        "])"
      ],
      "execution_count": 10,
      "outputs": []
    },
    {
      "cell_type": "markdown",
      "metadata": {
        "id": "Cu7vwcyv6k-2"
      },
      "source": [
        "Finally, we create bars for each year as a [PatchCollection](https://matplotlib.org/3.3.2/gallery/shapes_and_collections/patch_collection.html) of [Rectangles](https://matplotlib.org/3.2.1/api/_as_gen/matplotlib.patches.Rectangle.html), make the plot and save it as a jpg image."
      ]
    },
    {
      "cell_type": "code",
      "metadata": {
        "id": "rV6q2TiU6k-2",
        "colab": {
          "base_uri": "https://localhost:8080/",
          "height": 319
        },
        "outputId": "a3f78729-edd6-4eb0-d978-807ffebb09b2"
      },
      "source": [
        "# Define the shape of each bar\n",
        "rect_ll_y = df_annual.anomaly.min() # rectangle lower left y coordinate, minimum anomaly value\n",
        "rect_height = np.abs(df_annual.anomaly.max()-df_annual.anomaly.min()) # rectangle height, range between min and max anomaly values\n",
        "year_start = df_annual.year.min() # year to start the plot x axis\n",
        "year_end = df_annual.year.max() + 1 # year to end the plot x axis\n",
        "\n",
        "# create a collection with a rectangle for each year\n",
        "col = PatchCollection([\n",
        "    Rectangle((x, rect_ll_y), 1, rect_height)\n",
        "    for x in range(year_start, year_end)\n",
        "])\n",
        "\n",
        "# Create the figure, assign the data, colormap and color limits and add it to the figure axes\n",
        "fig = plt.figure(figsize=(15, 4))\n",
        "\n",
        "# set up the axes\n",
        "ax = fig.add_axes([0, 0, 1, 1])\n",
        "ax.set_axis_off()\n",
        "\n",
        "# set data, colormap and color limits\n",
        "col.set_array(df_annual.anomaly) # use the anomaly data for the colormap\n",
        "col.set_cmap(cmap) # apply our custom red/blue colormap colors\n",
        "col.set_clim(-rect_height/2, rect_height/2) # set the limits of our colormap\n",
        "ax.add_collection(col)\n",
        "\n",
        "# plot anomaly graph\n",
        "df_annual.plot(x='year', y='anomaly', linestyle='-',lw=3,color='w',ax=ax, legend=False)\n",
        "# plot horizontal line at zero anomaly\n",
        "ax.axhline(0, linestyle='--', color='w')\n",
        "# plot a text label\n",
        "ax.text(df_annual.year.max()+3,-.4,'San Diego, CA', fontsize=30, fontweight='bold', color='k')\n",
        "\n",
        "# Make sure the axes limits are correct and save the figure.\n",
        "ax.set_ylim(-np.abs(df_annual.anomaly.min()), np.abs(df_annual.anomaly.max())) # set y axis limits to rectanlge height centered at zero\n",
        "ax.set_xlim(year_start, year_end); # set x axes limits to start and end year\n",
        "\n",
        "# save the figure\n",
        "#fig.savefig('warming-stripes-seattle.jpg', dpi=150, bbox_inches='tight')"
      ],
      "execution_count": 11,
      "outputs": [
        {
          "output_type": "display_data",
          "data": {
            "image/png": "[encoded data removed]",
            "text/plain": [
              "<Figure size 1080x288 with 1 Axes>"
            ]
          },
          "metadata": {
            "tags": [],
            "needs_background": "light"
          }
        }
      ]
    }
  ]
}