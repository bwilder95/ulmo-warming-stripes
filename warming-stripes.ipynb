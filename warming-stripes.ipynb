{
 "cells": [
  {
   "cell_type": "markdown",
   "metadata": {},
   "source": [
    "# Warming Stripes\n",
    "\n",
    "Let's create our own figure of \"[warming stripes](https://en.wikipedia.org/wiki/Warming_stripes)\" that use a red/blue color scale to represent annual air temperature deviations from some climate mean tempearture over a long timeseries. This notebook is based on, and adapts code from [\"Creating the Warming Stripes in Matplotlib\" by Maximilian Nöthe](https://matplotlib.org/matplotblog/posts/warming-stripes/)."
   ]
  },
  {
   "cell_type": "markdown",
   "metadata": {},
   "source": [
    "We will use air temperature from [NASA's DayMet dataset](https://daymet.ornl.gov/), and access it through an API using the [ulmo](https://github.com/ulmo-dev/ulmo/) python package.\n",
    "\n",
    "Since we don't have ulmo installed on our JupyterHub by default, the first time you run this notebook, you'll need to install the ulmo package into our python envrionment.\n",
    "\n",
    "**Run the cell below once.** Uncomment it now, so that it reads `!pip install ulmo`, and run it. It will install ulmo on your JupyterHub. You shouldn't need to re-run it next time you open this notebook, so it's best to comment it out again when it completes.\n",
    "\n",
    "When it is complete and you've commented it back out, restart the kernel by going to *Kernel* > *Restart Kernel*."
   ]
  },
  {
   "cell_type": "code",
   "execution_count": 1,
   "metadata": {},
   "outputs": [],
   "source": [
    "#!pip install ulmo"
   ]
  },
  {
   "cell_type": "markdown",
   "metadata": {},
   "source": [
    "---"
   ]
  },
  {
   "cell_type": "code",
   "execution_count": 2,
   "metadata": {},
   "outputs": [],
   "source": [
    "# packages for working with our data\n",
    "import pandas as pd\n",
    "import numpy as np\n",
    "\n",
    "# page we'll use to access the data\n",
    "import ulmo\n",
    "\n",
    "# packages for plotting\n",
    "import matplotlib.pyplot as plt\n",
    "from matplotlib.patches import Rectangle\n",
    "from matplotlib.collections import PatchCollection\n",
    "from matplotlib.colors import ListedColormap"
   ]
  },
  {
   "cell_type": "markdown",
   "metadata": {},
   "source": [
    "To get a pandas dataframe of DayMet data, the function we're using is [`ulmo.nasa.daymet.get_daymet_singlepixel()`](https://ulmo.readthedocs.io/en/latest/api.html#module-ulmo.nasa.daymet)\n",
    "\n",
    "We need to specify a longitude and latitude, the variables we want to download, what years we want (by saying years=None, it will respond with all years on record), and we specify that we want the result returned as a pandas dataframe."
   ]
  },
  {
   "cell_type": "code",
   "execution_count": 3,
   "metadata": {},
   "outputs": [],
   "source": [
    "# latitude and longitude for Seattle, WA\n",
    "latitude = 47.654\n",
    "longitude = -122.308"
   ]
  },
  {
   "cell_type": "markdown",
   "metadata": {},
   "source": [
    "To see what data variables we can request, use the function [`ulmo.nasa.daymet.get_variables()`](https://ulmo.readthedocs.io/en/latest/api.html#ulmo.nasa.daymet.get_variables)"
   ]
  },
  {
   "cell_type": "code",
   "execution_count": 4,
   "metadata": {},
   "outputs": [
    {
     "data": {
      "text/plain": [
       "{'tmax': 'maximum temperature',\n",
       " 'tmin': 'minimum temperature',\n",
       " 'srad': 'shortwave radiation',\n",
       " 'vp': 'vapor pressure',\n",
       " 'swe': 'snow-water equivalent',\n",
       " 'prcp': 'precipitation',\n",
       " 'dayl': 'daylength'}"
      ]
     },
     "execution_count": 4,
     "metadata": {},
     "output_type": "execute_result"
    }
   ],
   "source": [
    "ulmo.nasa.daymet.get_variables()"
   ]
  },
  {
   "cell_type": "markdown",
   "metadata": {},
   "source": [
    "We're just interested in temperatures, so we'll grab tmin and tmax:"
   ]
  },
  {
   "cell_type": "code",
   "execution_count": 5,
   "metadata": {},
   "outputs": [
    {
     "name": "stderr",
     "output_type": "stream",
     "text": [
      "making request for latitude, longitude: 47.654, -122.308\n"
     ]
    }
   ],
   "source": [
    "df = ulmo.nasa.daymet.get_daymet_singlepixel(latitude, longitude, variables=['tmax', 'tmin'], years=None, as_dataframe=True)"
   ]
  },
  {
   "cell_type": "markdown",
   "metadata": {},
   "source": [
    "Take a look at what the dataframe looks like"
   ]
  },
  {
   "cell_type": "code",
   "execution_count": 6,
   "metadata": {},
   "outputs": [
    {
     "data": {
      "text/html": [
       "<div>\n",
       "<style scoped>\n",
       "    .dataframe tbody tr th:only-of-type {\n",
       "        vertical-align: middle;\n",
       "    }\n",
       "\n",
       "    .dataframe tbody tr th {\n",
       "        vertical-align: top;\n",
       "    }\n",
       "\n",
       "    .dataframe thead th {\n",
       "        text-align: right;\n",
       "    }\n",
       "</style>\n",
       "<table border=\"1\" class=\"dataframe\">\n",
       "  <thead>\n",
       "    <tr style=\"text-align: right;\">\n",
       "      <th></th>\n",
       "      <th>year</th>\n",
       "      <th>yday</th>\n",
       "      <th>tmax</th>\n",
       "      <th>tmin</th>\n",
       "    </tr>\n",
       "  </thead>\n",
       "  <tbody>\n",
       "    <tr>\n",
       "      <th>1980-01-01</th>\n",
       "      <td>1980</td>\n",
       "      <td>1</td>\n",
       "      <td>11.47</td>\n",
       "      <td>6.35</td>\n",
       "    </tr>\n",
       "    <tr>\n",
       "      <th>1980-01-02</th>\n",
       "      <td>1980</td>\n",
       "      <td>2</td>\n",
       "      <td>8.97</td>\n",
       "      <td>4.41</td>\n",
       "    </tr>\n",
       "    <tr>\n",
       "      <th>1980-01-03</th>\n",
       "      <td>1980</td>\n",
       "      <td>3</td>\n",
       "      <td>8.18</td>\n",
       "      <td>0.62</td>\n",
       "    </tr>\n",
       "    <tr>\n",
       "      <th>1980-01-04</th>\n",
       "      <td>1980</td>\n",
       "      <td>4</td>\n",
       "      <td>4.99</td>\n",
       "      <td>0.72</td>\n",
       "    </tr>\n",
       "    <tr>\n",
       "      <th>1980-01-05</th>\n",
       "      <td>1980</td>\n",
       "      <td>5</td>\n",
       "      <td>4.55</td>\n",
       "      <td>-0.35</td>\n",
       "    </tr>\n",
       "  </tbody>\n",
       "</table>\n",
       "</div>"
      ],
      "text/plain": [
       "            year  yday   tmax  tmin\n",
       "1980-01-01  1980     1  11.47  6.35\n",
       "1980-01-02  1980     2   8.97  4.41\n",
       "1980-01-03  1980     3   8.18  0.62\n",
       "1980-01-04  1980     4   4.99  0.72\n",
       "1980-01-05  1980     5   4.55 -0.35"
      ]
     },
     "execution_count": 6,
     "metadata": {},
     "output_type": "execute_result"
    }
   ],
   "source": [
    "df.head()"
   ]
  },
  {
   "cell_type": "markdown",
   "metadata": {},
   "source": [
    "Create a daily mean temperature from tmin and tmax"
   ]
  },
  {
   "cell_type": "code",
   "execution_count": 7,
   "metadata": {},
   "outputs": [
    {
     "data": {
      "text/html": [
       "<div>\n",
       "<style scoped>\n",
       "    .dataframe tbody tr th:only-of-type {\n",
       "        vertical-align: middle;\n",
       "    }\n",
       "\n",
       "    .dataframe tbody tr th {\n",
       "        vertical-align: top;\n",
       "    }\n",
       "\n",
       "    .dataframe thead th {\n",
       "        text-align: right;\n",
       "    }\n",
       "</style>\n",
       "<table border=\"1\" class=\"dataframe\">\n",
       "  <thead>\n",
       "    <tr style=\"text-align: right;\">\n",
       "      <th></th>\n",
       "      <th>year</th>\n",
       "      <th>yday</th>\n",
       "      <th>tmax</th>\n",
       "      <th>tmin</th>\n",
       "      <th>tmean</th>\n",
       "    </tr>\n",
       "  </thead>\n",
       "  <tbody>\n",
       "    <tr>\n",
       "      <th>1980-01-01</th>\n",
       "      <td>1980</td>\n",
       "      <td>1</td>\n",
       "      <td>11.47</td>\n",
       "      <td>6.35</td>\n",
       "      <td>8.910</td>\n",
       "    </tr>\n",
       "    <tr>\n",
       "      <th>1980-01-02</th>\n",
       "      <td>1980</td>\n",
       "      <td>2</td>\n",
       "      <td>8.97</td>\n",
       "      <td>4.41</td>\n",
       "      <td>6.690</td>\n",
       "    </tr>\n",
       "    <tr>\n",
       "      <th>1980-01-03</th>\n",
       "      <td>1980</td>\n",
       "      <td>3</td>\n",
       "      <td>8.18</td>\n",
       "      <td>0.62</td>\n",
       "      <td>4.400</td>\n",
       "    </tr>\n",
       "    <tr>\n",
       "      <th>1980-01-04</th>\n",
       "      <td>1980</td>\n",
       "      <td>4</td>\n",
       "      <td>4.99</td>\n",
       "      <td>0.72</td>\n",
       "      <td>2.855</td>\n",
       "    </tr>\n",
       "    <tr>\n",
       "      <th>1980-01-05</th>\n",
       "      <td>1980</td>\n",
       "      <td>5</td>\n",
       "      <td>4.55</td>\n",
       "      <td>-0.35</td>\n",
       "      <td>2.100</td>\n",
       "    </tr>\n",
       "  </tbody>\n",
       "</table>\n",
       "</div>"
      ],
      "text/plain": [
       "            year  yday   tmax  tmin  tmean\n",
       "1980-01-01  1980     1  11.47  6.35  8.910\n",
       "1980-01-02  1980     2   8.97  4.41  6.690\n",
       "1980-01-03  1980     3   8.18  0.62  4.400\n",
       "1980-01-04  1980     4   4.99  0.72  2.855\n",
       "1980-01-05  1980     5   4.55 -0.35  2.100"
      ]
     },
     "execution_count": 7,
     "metadata": {},
     "output_type": "execute_result"
    }
   ],
   "source": [
    "df['tmean'] = np.mean([df.tmax, df.tmin], axis=0)\n",
    "df.head()"
   ]
  },
  {
   "cell_type": "markdown",
   "metadata": {},
   "source": [
    "Resample the dataframe to annual mean values"
   ]
  },
  {
   "cell_type": "code",
   "execution_count": 8,
   "metadata": {},
   "outputs": [
    {
     "data": {
      "text/html": [
       "<div>\n",
       "<style scoped>\n",
       "    .dataframe tbody tr th:only-of-type {\n",
       "        vertical-align: middle;\n",
       "    }\n",
       "\n",
       "    .dataframe tbody tr th {\n",
       "        vertical-align: top;\n",
       "    }\n",
       "\n",
       "    .dataframe thead th {\n",
       "        text-align: right;\n",
       "    }\n",
       "</style>\n",
       "<table border=\"1\" class=\"dataframe\">\n",
       "  <thead>\n",
       "    <tr style=\"text-align: right;\">\n",
       "      <th></th>\n",
       "      <th>year</th>\n",
       "      <th>yday</th>\n",
       "      <th>tmax</th>\n",
       "      <th>tmin</th>\n",
       "      <th>tmean</th>\n",
       "    </tr>\n",
       "  </thead>\n",
       "  <tbody>\n",
       "    <tr>\n",
       "      <th>1980-12-31</th>\n",
       "      <td>1980</td>\n",
       "      <td>183</td>\n",
       "      <td>15.788219</td>\n",
       "      <td>6.550685</td>\n",
       "      <td>11.169452</td>\n",
       "    </tr>\n",
       "    <tr>\n",
       "      <th>1981-12-31</th>\n",
       "      <td>1981</td>\n",
       "      <td>183</td>\n",
       "      <td>16.461370</td>\n",
       "      <td>6.794301</td>\n",
       "      <td>11.627836</td>\n",
       "    </tr>\n",
       "    <tr>\n",
       "      <th>1982-12-31</th>\n",
       "      <td>1982</td>\n",
       "      <td>183</td>\n",
       "      <td>15.615945</td>\n",
       "      <td>5.833233</td>\n",
       "      <td>10.724589</td>\n",
       "    </tr>\n",
       "    <tr>\n",
       "      <th>1983-12-31</th>\n",
       "      <td>1983</td>\n",
       "      <td>183</td>\n",
       "      <td>16.008548</td>\n",
       "      <td>6.499671</td>\n",
       "      <td>11.254110</td>\n",
       "    </tr>\n",
       "    <tr>\n",
       "      <th>1984-12-31</th>\n",
       "      <td>1984</td>\n",
       "      <td>183</td>\n",
       "      <td>15.613151</td>\n",
       "      <td>5.925534</td>\n",
       "      <td>10.769342</td>\n",
       "    </tr>\n",
       "  </tbody>\n",
       "</table>\n",
       "</div>"
      ],
      "text/plain": [
       "            year  yday       tmax      tmin      tmean\n",
       "1980-12-31  1980   183  15.788219  6.550685  11.169452\n",
       "1981-12-31  1981   183  16.461370  6.794301  11.627836\n",
       "1982-12-31  1982   183  15.615945  5.833233  10.724589\n",
       "1983-12-31  1983   183  16.008548  6.499671  11.254110\n",
       "1984-12-31  1984   183  15.613151  5.925534  10.769342"
      ]
     },
     "execution_count": 8,
     "metadata": {},
     "output_type": "execute_result"
    }
   ],
   "source": [
    "df_annual = df.resample('Y').mean()\n",
    "df_annual.head()"
   ]
  },
  {
   "cell_type": "markdown",
   "metadata": {},
   "source": [
    "Now find the overall mean for all the years we're looking at. We'll use this as our \"climate mean\" air temperature to compare against just for this example."
   ]
  },
  {
   "cell_type": "code",
   "execution_count": 9,
   "metadata": {},
   "outputs": [
    {
     "name": "stdout",
     "output_type": "stream",
     "text": [
      "11.365277647844971\n"
     ]
    }
   ],
   "source": [
    "climate_mean = df_annual.tmean.mean()\n",
    "print(climate_mean)"
   ]
  },
  {
   "cell_type": "markdown",
   "metadata": {},
   "source": [
    "Find the annual anomaly between the annual mean temperature and this climate mean."
   ]
  },
  {
   "cell_type": "code",
   "execution_count": 10,
   "metadata": {},
   "outputs": [
    {
     "data": {
      "text/html": [
       "<div>\n",
       "<style scoped>\n",
       "    .dataframe tbody tr th:only-of-type {\n",
       "        vertical-align: middle;\n",
       "    }\n",
       "\n",
       "    .dataframe tbody tr th {\n",
       "        vertical-align: top;\n",
       "    }\n",
       "\n",
       "    .dataframe thead th {\n",
       "        text-align: right;\n",
       "    }\n",
       "</style>\n",
       "<table border=\"1\" class=\"dataframe\">\n",
       "  <thead>\n",
       "    <tr style=\"text-align: right;\">\n",
       "      <th></th>\n",
       "      <th>year</th>\n",
       "      <th>yday</th>\n",
       "      <th>tmax</th>\n",
       "      <th>tmin</th>\n",
       "      <th>tmean</th>\n",
       "      <th>anomaly</th>\n",
       "    </tr>\n",
       "  </thead>\n",
       "  <tbody>\n",
       "    <tr>\n",
       "      <th>1980-12-31</th>\n",
       "      <td>1980</td>\n",
       "      <td>183</td>\n",
       "      <td>15.788219</td>\n",
       "      <td>6.550685</td>\n",
       "      <td>11.169452</td>\n",
       "      <td>-0.195826</td>\n",
       "    </tr>\n",
       "    <tr>\n",
       "      <th>1981-12-31</th>\n",
       "      <td>1981</td>\n",
       "      <td>183</td>\n",
       "      <td>16.461370</td>\n",
       "      <td>6.794301</td>\n",
       "      <td>11.627836</td>\n",
       "      <td>0.262558</td>\n",
       "    </tr>\n",
       "    <tr>\n",
       "      <th>1982-12-31</th>\n",
       "      <td>1982</td>\n",
       "      <td>183</td>\n",
       "      <td>15.615945</td>\n",
       "      <td>5.833233</td>\n",
       "      <td>10.724589</td>\n",
       "      <td>-0.640689</td>\n",
       "    </tr>\n",
       "    <tr>\n",
       "      <th>1983-12-31</th>\n",
       "      <td>1983</td>\n",
       "      <td>183</td>\n",
       "      <td>16.008548</td>\n",
       "      <td>6.499671</td>\n",
       "      <td>11.254110</td>\n",
       "      <td>-0.111168</td>\n",
       "    </tr>\n",
       "    <tr>\n",
       "      <th>1984-12-31</th>\n",
       "      <td>1984</td>\n",
       "      <td>183</td>\n",
       "      <td>15.613151</td>\n",
       "      <td>5.925534</td>\n",
       "      <td>10.769342</td>\n",
       "      <td>-0.595935</td>\n",
       "    </tr>\n",
       "  </tbody>\n",
       "</table>\n",
       "</div>"
      ],
      "text/plain": [
       "            year  yday       tmax      tmin      tmean   anomaly\n",
       "1980-12-31  1980   183  15.788219  6.550685  11.169452 -0.195826\n",
       "1981-12-31  1981   183  16.461370  6.794301  11.627836  0.262558\n",
       "1982-12-31  1982   183  15.615945  5.833233  10.724589 -0.640689\n",
       "1983-12-31  1983   183  16.008548  6.499671  11.254110 -0.111168\n",
       "1984-12-31  1984   183  15.613151  5.925534  10.769342 -0.595935"
      ]
     },
     "execution_count": 10,
     "metadata": {},
     "output_type": "execute_result"
    }
   ],
   "source": [
    "df_annual['anomaly'] = df_annual.tmean - climate_mean\n",
    "df_annual.head()"
   ]
  },
  {
   "cell_type": "markdown",
   "metadata": {},
   "source": [
    "Now that we have our data all in order, we can go ahead and make the plot. (The following plotting code is adapted from [\"Creating the Warming Stripes in Matplotlib\" by Maximilian Nöthe](https://matplotlib.org/matplotblog/posts/warming-stripes/))"
   ]
  },
  {
   "cell_type": "markdown",
   "metadata": {},
   "source": [
    "This is our custom colormap from [colorbrewer2](http://colorbrewer2.org), we could also use one of the [colormaps](https://matplotlib.org/3.1.0/tutorials/colors/colormaps.html) that come with `matplotlib`, e.g. `coolwarm` or `RdBu`."
   ]
  },
  {
   "cell_type": "code",
   "execution_count": 11,
   "metadata": {},
   "outputs": [],
   "source": [
    "cmap = ListedColormap([\n",
    "    '#08306b', '#08519c', '#2171b5', '#4292c6',\n",
    "    '#6baed6', '#9ecae1', '#c6dbef', '#deebf7',\n",
    "    '#fee0d2', '#fcbba1', '#fc9272', '#fb6a4a',\n",
    "    '#ef3b2c', '#cb181d', '#a50f15', '#67000d',\n",
    "])"
   ]
  },
  {
   "cell_type": "markdown",
   "metadata": {},
   "source": [
    "Finally, we create bars for each year as a [PatchCollection](https://matplotlib.org/3.3.2/gallery/shapes_and_collections/patch_collection.html) of [Rectangles](https://matplotlib.org/3.2.1/api/_as_gen/matplotlib.patches.Rectangle.html), make the plot and save it as a jpg image."
   ]
  },
  {
   "cell_type": "code",
   "execution_count": 12,
   "metadata": {},
   "outputs": [
    {
     "data": {
      "image/png": "[encoded data removed]",
      "text/plain": [
       "<Figure size 360x72 with 1 Axes>"
      ]
     },
     "metadata": {
      "needs_background": "light"
     },
     "output_type": "display_data"
    }
   ],
   "source": [
    "# Define the shape of each bar\n",
    "rect_ll_y = df_annual.anomaly.min() # rectangle lower left y coordinate, minimum anomaly value\n",
    "rect_height = np.abs(df_annual.anomaly.max()-df_annual.anomaly.min()) # rectangle height, range between min and max anomaly values\n",
    "year_start = df_annual.year.min() # year to start the plot x axis\n",
    "year_end = df_annual.year.max() + 1 # year to end the plot x axis\n",
    "\n",
    "# create a collection with a rectangle for each year\n",
    "col = PatchCollection([\n",
    "    Rectangle((x, rect_ll_y), 1, rect_height)\n",
    "    for x in range(year_start, year_end)\n",
    "])\n",
    "\n",
    "# Create the figure, assign the data, colormap and color limits and add it to the figure axes\n",
    "fig = plt.figure(figsize=(5, 1))\n",
    "\n",
    "# set up the axes\n",
    "ax = fig.add_axes([0, 0, 1, 1])\n",
    "ax.set_axis_off()\n",
    "\n",
    "# set data, colormap and color limits\n",
    "col.set_array(df_annual.anomaly) # use the anomaly data for the colormap\n",
    "col.set_cmap(cmap) # apply our custom red/blue colormap colors\n",
    "col.set_clim(-rect_height/2, rect_height/2) # set the limits of our colormap\n",
    "ax.add_collection(col)\n",
    "\n",
    "# plot anomaly graph\n",
    "df_annual.plot(x='year', y='anomaly', linestyle='-',lw=3,color='w',ax=ax, legend=False)\n",
    "# plot horizontal line at zero anomaly\n",
    "ax.axhline(0, linestyle='--', color='w')\n",
    "# plot a text label\n",
    "ax.text(df.year.max()+3,-.4,'Seattle, WA', fontsize=30, fontweight='bold', color='k')\n",
    "\n",
    "# Make sure the axes limits are correct and save the figure.\n",
    "ax.set_ylim(-rect_height/2, rect_height/2) # set y axis limits to rectanlge height centered at zero\n",
    "ax.set_xlim(year_start, year_end); # set x axes limits to start and end year\n",
    "\n",
    "# save the figure\n",
    "fig.savefig('warming-stripes-seattle.jpg', dpi=150)"
   ]
  }
 ],
 "metadata": {
  "kernelspec": {
   "display_name": "whwwaterdata",
   "language": "python",
   "name": "whwwaterdata"
  },
  "language_info": {
   "codemirror_mode": {
    "name": "ipython",
    "version": 3
   },
   "file_extension": ".py",
   "mimetype": "text/x-python",
   "name": "python",
   "nbconvert_exporter": "python",
   "pygments_lexer": "ipython3",
   "version": "3.6.10"
  }
 },
 "nbformat": 4,
 "nbformat_minor": 4
}
